{
  "cells": [
    {
      "cell_type": "code",
      "execution_count": 1,
      "metadata": {
        "id": "ax6E8LmVGw5l",
        "colab": {
          "base_uri": "https://localhost:8080/"
        },
        "outputId": "80e496a5-e353-4c82-db7c-f0e344aa1e60"
      },
      "outputs": [
        {
          "output_type": "stream",
          "name": "stderr",
          "text": [
            "/usr/local/lib/python3.10/dist-packages/sklearn/datasets/_openml.py:968: FutureWarning: The default value of `parser` will change from `'liac-arff'` to `'auto'` in 1.4. You can set `parser='auto'` to silence this warning. Therefore, an `ImportError` will be raised from 1.4 if the dataset is dense and pandas is not installed. Note that the pandas parser may return different data types. See the Notes Section in fetch_openml's API doc for details.\n",
            "  warn(\n"
          ]
        }
      ],
      "source": [
        "# Load the dataset\n",
        "from sklearn.datasets import fetch_openml\n",
        "mnist = fetch_openml('mnist_784', as_frame=False);\n",
        "\n",
        "# Load library\n",
        "from sklearn.metrics import accuracy_score\n",
        "from sklearn.model_selection import train_test_split\n",
        "from sklearn.linear_model import LogisticRegression\n",
        "from sklearn.ensemble import RandomForestClassifier\n",
        "\n",
        "from sklearn.metrics import classification_report, confusion_matrix\n",
        "\n",
        "from sklearn.feature_selection import SelectKBest, chi2\n",
        "from sklearn.feature_selection import RFE\n",
        "from sklearn.svm import SVR, SVC"
      ]
    },
    {
      "cell_type": "code",
      "execution_count": 2,
      "metadata": {
        "id": "lMvLc3WYHD7A"
      },
      "outputs": [],
      "source": [
        "# Split the dataset into features and target variable\n",
        "X = mnist.data\n",
        "y = mnist.target\n",
        "\n",
        "# Split the data into training and testing sets\n",
        "X_train, X_test, y_train, y_test = train_test_split(X, y,\n",
        "\t\t\t\t\t\t\t\t\ttest_size=0.2,\n",
        "\t\t\t\t\t\t\t\t\trandom_state=42)"
      ]
    },
    {
      "cell_type": "code",
      "execution_count": 3,
      "metadata": {
        "colab": {
          "base_uri": "https://localhost:8080/"
        },
        "id": "D_hC73GqIecG",
        "outputId": "2a359fa3-6ea1-4e2f-83d5-7c0c29899186"
      },
      "outputs": [
        {
          "output_type": "stream",
          "name": "stderr",
          "text": [
            "/usr/local/lib/python3.10/dist-packages/sklearn/linear_model/_logistic.py:458: ConvergenceWarning: lbfgs failed to converge (status=1):\n",
            "STOP: TOTAL NO. of ITERATIONS REACHED LIMIT.\n",
            "\n",
            "Increase the number of iterations (max_iter) or scale the data as shown in:\n",
            "    https://scikit-learn.org/stable/modules/preprocessing.html\n",
            "Please also refer to the documentation for alternative solver options:\n",
            "    https://scikit-learn.org/stable/modules/linear_model.html#logistic-regression\n",
            "  n_iter_i = _check_optimize_result(\n"
          ]
        }
      ],
      "source": [
        "# Create an instance of the logistic regression model\n",
        "lr = LogisticRegression()\n",
        "\n",
        "# Fit the model to the training data\n",
        "lr.fit(X_train, y_train)\n",
        "\n",
        "# Make predictions on the testing data\n",
        "y_pred = lr.predict(X_test)\n",
        "\n",
        "# Calculate the accuracy of the model\n",
        "accuracy = accuracy_score(y_test, y_pred);"
      ]
    },
    {
      "cell_type": "code",
      "execution_count": 4,
      "metadata": {
        "colab": {
          "base_uri": "https://localhost:8080/"
        },
        "id": "1rhi542TCu-3",
        "outputId": "02ecd97d-6e3d-4d4b-d866-7a8abe560db1"
      },
      "outputs": [
        {
          "output_type": "stream",
          "name": "stdout",
          "text": [
            "Accuracy: 0.9178571428571428\n"
          ]
        }
      ],
      "source": [
        "print(f\"Accuracy: {accuracy}\")"
      ]
    },
    {
      "cell_type": "code",
      "execution_count": 5,
      "metadata": {
        "colab": {
          "base_uri": "https://localhost:8080/",
          "height": 105
        },
        "id": "_jTXZ3RxCmho",
        "outputId": "017ad66e-9066-4b0e-cab9-b2b81f437377"
      },
      "outputs": [
        {
          "output_type": "execute_result",
          "data": {
            "text/plain": [
              "'              precision    recall  f1-score   support\\n\\n           0       0.96      0.96      0.96      1343\\n           1       0.95      0.97      0.96      1600\\n           2       0.91      0.89      0.90      1380\\n           3       0.90      0.91      0.90      1433\\n           4       0.92      0.92      0.92      1295\\n           5       0.89      0.85      0.87      1273\\n           6       0.94      0.95      0.95      1396\\n           7       0.93      0.94      0.93      1503\\n           8       0.87      0.87      0.87      1357\\n           9       0.90      0.89      0.90      1420\\n\\n    accuracy                           0.92     14000\\n   macro avg       0.92      0.92      0.92     14000\\nweighted avg       0.92      0.92      0.92     14000\\n'"
            ],
            "application/vnd.google.colaboratory.intrinsic+json": {
              "type": "string"
            }
          },
          "metadata": {},
          "execution_count": 5
        }
      ],
      "source": [
        "classification_report(y_test, y_pred)"
      ]
    },
    {
      "cell_type": "code",
      "execution_count": 6,
      "metadata": {
        "colab": {
          "base_uri": "https://localhost:8080/"
        },
        "id": "a4vEW0HYPanO",
        "outputId": "bee37358-e0ea-4384-8fb8-b8c0983a0840"
      },
      "outputs": [
        {
          "output_type": "execute_result",
          "data": {
            "text/plain": [
              "array([[1289,    1,    6,    0,    5,   14,   12,    6,    8,    2],\n",
              "       [   0, 1557,    5,    9,    2,    7,    0,    3,   15,    2],\n",
              "       [   4,   20, 1229,   25,   16,    8,   19,   15,   35,    9],\n",
              "       [   6,    7,   30, 1298,    1,   38,    4,   14,   19,   16],\n",
              "       [   4,    0,    8,    5, 1194,    4,   13,    6,   12,   49],\n",
              "       [   7,   11,    8,   53,   16, 1087,   20,    2,   54,   15],\n",
              "       [   7,    3,   20,    0,   14,   14, 1332,    2,    4,    0],\n",
              "       [   5,    4,   28,    4,    8,    5,    0, 1408,    2,   39],\n",
              "       [  11,   24,   17,   38,    7,   39,   12,   10, 1186,   13],\n",
              "       [   7,   10,    7,   14,   40,    5,    0,   45,   22, 1270]])"
            ]
          },
          "metadata": {},
          "execution_count": 6
        }
      ],
      "source": [
        "confusion_matrix(y_test,y_pred)"
      ]
    },
    {
      "cell_type": "code",
      "execution_count": 7,
      "metadata": {
        "colab": {
          "base_uri": "https://localhost:8080/"
        },
        "id": "39iOZuqJIhIK",
        "outputId": "e3464fa0-e49a-49f2-f7b2-f3211d45a7c0"
      },
      "outputs": [
        {
          "output_type": "stream",
          "name": "stdout",
          "text": [
            "Accuracy: 0.9672857142857143\n"
          ]
        }
      ],
      "source": [
        "# Create an instance of the Random Forest classifier\n",
        "rf = RandomForestClassifier(n_estimators=100,\n",
        "                            random_state=42)\n",
        "rf.fit(X_train, y_train)\n",
        "y_pred = rf.predict(X_test)\n",
        "\n",
        "accuracy = accuracy_score(y_test, y_pred)\n",
        "print(f\"Accuracy: {accuracy}\")"
      ]
    },
    {
      "cell_type": "code",
      "execution_count": 8,
      "metadata": {
        "colab": {
          "base_uri": "https://localhost:8080/",
          "height": 105
        },
        "id": "aohDaSPeqPRo",
        "outputId": "bb0d679d-e1f2-4eb5-b9d6-f12de8f11776"
      },
      "outputs": [
        {
          "output_type": "execute_result",
          "data": {
            "text/plain": [
              "'              precision    recall  f1-score   support\\n\\n           0       0.98      0.99      0.99      1343\\n           1       0.98      0.98      0.98      1600\\n           2       0.95      0.97      0.96      1380\\n           3       0.96      0.95      0.96      1433\\n           4       0.96      0.97      0.97      1295\\n           5       0.97      0.96      0.97      1273\\n           6       0.98      0.98      0.98      1396\\n           7       0.97      0.97      0.97      1503\\n           8       0.96      0.95      0.96      1357\\n           9       0.96      0.95      0.95      1420\\n\\n    accuracy                           0.97     14000\\n   macro avg       0.97      0.97      0.97     14000\\nweighted avg       0.97      0.97      0.97     14000\\n'"
            ],
            "application/vnd.google.colaboratory.intrinsic+json": {
              "type": "string"
            }
          },
          "metadata": {},
          "execution_count": 8
        }
      ],
      "source": [
        "classification_report(y_test, y_pred)"
      ]
    },
    {
      "cell_type": "code",
      "execution_count": 9,
      "metadata": {
        "colab": {
          "base_uri": "https://localhost:8080/"
        },
        "id": "7EMYJRu2Pi9K",
        "outputId": "db24c9cc-328f-4d42-b1a6-7fbbda42c1c5"
      },
      "outputs": [
        {
          "output_type": "execute_result",
          "data": {
            "text/plain": [
              "array([[1325,    0,    4,    0,    1,    1,    3,    1,    6,    2],\n",
              "       [   0, 1573,    6,    8,    2,    0,    0,    6,    3,    2],\n",
              "       [   4,    5, 1334,    4,    5,    1,    9,    8,    8,    2],\n",
              "       [   1,    0,   23, 1366,    0,    9,    0,   14,   12,    8],\n",
              "       [   4,    1,    3,    0, 1257,    0,    2,    3,    3,   22],\n",
              "       [   1,    3,    3,   17,    4, 1226,    8,    1,    8,    2],\n",
              "       [   4,    1,    0,    0,    6,   10, 1372,    0,    3,    0],\n",
              "       [   3,    5,   15,    0,    7,    1,    0, 1455,    2,   15],\n",
              "       [   1,    6,    9,   15,    6,   11,    5,    7, 1290,    7],\n",
              "       [   4,    6,    5,   16,   20,    5,    1,   10,    9, 1344]])"
            ]
          },
          "metadata": {},
          "execution_count": 9
        }
      ],
      "source": [
        "confusion_matrix(y_test,y_pred)"
      ]
    },
    {
      "cell_type": "code",
      "execution_count": 13,
      "metadata": {
        "id": "QsbXfauWVWKo"
      },
      "outputs": [],
      "source": [
        "X_SelectKBest = SelectKBest(chi2, k=157).fit_transform(X_train, y_train)\n",
        "X_test_SelectKBest = SelectKBest(chi2, k=157).fit_transform(X_test, y_test)"
      ]
    },
    {
      "cell_type": "code",
      "execution_count": 14,
      "metadata": {
        "colab": {
          "base_uri": "https://localhost:8080/"
        },
        "id": "PTwq1mAncY1g",
        "outputId": "4b2ca93b-61a7-49cf-cffc-586bccc55410"
      },
      "outputs": [
        {
          "output_type": "stream",
          "name": "stderr",
          "text": [
            "/usr/local/lib/python3.10/dist-packages/sklearn/linear_model/_logistic.py:458: ConvergenceWarning: lbfgs failed to converge (status=1):\n",
            "STOP: TOTAL NO. of ITERATIONS REACHED LIMIT.\n",
            "\n",
            "Increase the number of iterations (max_iter) or scale the data as shown in:\n",
            "    https://scikit-learn.org/stable/modules/preprocessing.html\n",
            "Please also refer to the documentation for alternative solver options:\n",
            "    https://scikit-learn.org/stable/modules/linear_model.html#logistic-regression\n",
            "  n_iter_i = _check_optimize_result(\n"
          ]
        }
      ],
      "source": [
        "# Create an instance of the logistic regression model\n",
        "lr = LogisticRegression()\n",
        "lr.fit(X_SelectKBest, y_train)\n",
        "y_pred = lr.predict(X_test_SelectKBest)\n",
        "accuracy = accuracy_score(y_test, y_pred);"
      ]
    },
    {
      "cell_type": "code",
      "source": [
        "print(f\"Accuracy: {accuracy}\")"
      ],
      "metadata": {
        "colab": {
          "base_uri": "https://localhost:8080/"
        },
        "id": "n1SY7lTq-a3m",
        "outputId": "cbfea0d1-e1ef-4c62-e324-ba2a9085a4a8"
      },
      "execution_count": 15,
      "outputs": [
        {
          "output_type": "stream",
          "name": "stdout",
          "text": [
            "Accuracy: 0.5518571428571428\n"
          ]
        }
      ]
    },
    {
      "cell_type": "code",
      "source": [
        "classification_report(y_test, y_pred)"
      ],
      "metadata": {
        "colab": {
          "base_uri": "https://localhost:8080/",
          "height": 105
        },
        "id": "dbiKcXcj-cal",
        "outputId": "45f23f92-50c3-4233-918b-6c252f521b5d"
      },
      "execution_count": 16,
      "outputs": [
        {
          "output_type": "execute_result",
          "data": {
            "text/plain": [
              "'              precision    recall  f1-score   support\\n\\n           0       0.82      0.72      0.77      1343\\n           1       0.33      0.00      0.00      1600\\n           2       0.66      0.81      0.73      1380\\n           3       0.64      0.78      0.70      1433\\n           4       0.65      0.50      0.56      1295\\n           5       0.54      0.46      0.50      1273\\n           6       0.57      0.66      0.61      1396\\n           7       0.33      0.80      0.46      1503\\n           8       0.61      0.46      0.53      1357\\n           9       0.55      0.38      0.45      1420\\n\\n    accuracy                           0.55     14000\\n   macro avg       0.57      0.56      0.53     14000\\nweighted avg       0.56      0.55      0.52     14000\\n'"
            ],
            "application/vnd.google.colaboratory.intrinsic+json": {
              "type": "string"
            }
          },
          "metadata": {},
          "execution_count": 16
        }
      ]
    },
    {
      "cell_type": "code",
      "source": [
        "confusion_matrix(y_test,y_pred)"
      ],
      "metadata": {
        "colab": {
          "base_uri": "https://localhost:8080/"
        },
        "id": "omh2_7qB_OcN",
        "outputId": "3e39d8cf-8166-4c26-d60c-faf4afdb5e80"
      },
      "execution_count": 17,
      "outputs": [
        {
          "output_type": "execute_result",
          "data": {
            "text/plain": [
              "array([[ 964,    0,   14,    4,    2,  144,  103,    2,  109,    1],\n",
              "       [   1,    1,   25,   32,   17,    0,    0, 1460,    5,   59],\n",
              "       [  25,    0, 1123,   25,   17,   24,   60,   69,   27,   10],\n",
              "       [  17,    0,   45, 1118,    9,   15,   22,  114,   38,   55],\n",
              "       [  11,    0,   40,   31,  646,   61,  250,  104,   21,  131],\n",
              "       [  25,    2,   33,  355,   55,  589,   43,   36,   90,   45],\n",
              "       [  63,    0,  258,   29,   10,   35,  920,   12,   54,   15],\n",
              "       [  57,    0,   27,   36,   16,  116,   30, 1196,   13,   12],\n",
              "       [   1,    0,  104,   88,   36,   63,   36,  294,  623,  112],\n",
              "       [  10,    0,   22,   40,  186,   45,  155,  380,   36,  546]])"
            ]
          },
          "metadata": {},
          "execution_count": 17
        }
      ]
    },
    {
      "cell_type": "code",
      "execution_count": 18,
      "metadata": {
        "id": "M6dEkBMf_w1w"
      },
      "outputs": [],
      "source": [
        "# Create an instance of the Random Forest classifier\n",
        "rf = RandomForestClassifier(n_estimators=100,\n",
        "                            random_state=42)\n",
        "rf.fit(X_SelectKBest, y_train)\n",
        "y_pred = rf.predict(X_test_SelectKBest)\n",
        "accuracy = accuracy_score(y_test, y_pred)"
      ]
    },
    {
      "cell_type": "code",
      "source": [
        "print(f\"Accuracy: {accuracy}\")"
      ],
      "metadata": {
        "colab": {
          "base_uri": "https://localhost:8080/"
        },
        "id": "i_eAsIWn_w1y",
        "outputId": "8a0768ae-3a89-4da0-bee3-f7e0bd939de2"
      },
      "execution_count": 19,
      "outputs": [
        {
          "output_type": "stream",
          "name": "stdout",
          "text": [
            "Accuracy: 0.6741428571428572\n"
          ]
        }
      ]
    },
    {
      "cell_type": "code",
      "source": [
        "classification_report(y_test, y_pred)"
      ],
      "metadata": {
        "colab": {
          "base_uri": "https://localhost:8080/",
          "height": 105
        },
        "id": "vS7lGLDz_w1z",
        "outputId": "27a94111-7dc1-4fa4-a09c-3eab97bb7740"
      },
      "execution_count": 20,
      "outputs": [
        {
          "output_type": "execute_result",
          "data": {
            "text/plain": [
              "'              precision    recall  f1-score   support\\n\\n           0       0.92      0.72      0.81      1343\\n           1       0.91      0.08      0.14      1600\\n           2       0.69      0.92      0.79      1380\\n           3       0.54      0.89      0.67      1433\\n           4       0.60      0.73      0.66      1295\\n           5       0.66      0.59      0.62      1273\\n           6       0.84      0.87      0.85      1396\\n           7       0.58      0.87      0.70      1503\\n           8       0.68      0.78      0.72      1357\\n           9       0.78      0.37      0.50      1420\\n\\n    accuracy                           0.67     14000\\n   macro avg       0.72      0.68      0.65     14000\\nweighted avg       0.72      0.67      0.64     14000\\n'"
            ],
            "application/vnd.google.colaboratory.intrinsic+json": {
              "type": "string"
            }
          },
          "metadata": {},
          "execution_count": 20
        }
      ]
    },
    {
      "cell_type": "code",
      "source": [
        "confusion_matrix(y_test,y_pred)"
      ],
      "metadata": {
        "colab": {
          "base_uri": "https://localhost:8080/"
        },
        "id": "UZ3iZb_7_w1z",
        "outputId": "1909e8fc-6f2c-4a92-ff91-4889d604d772"
      },
      "execution_count": 21,
      "outputs": [
        {
          "output_type": "execute_result",
          "data": {
            "text/plain": [
              "array([[ 969,    1,    9,    3,    1,   52,   80,    2,  226,    0],\n",
              "       [   0,  125,  261,  455,    0,    2,    0,  653,  101,    3],\n",
              "       [   5,    0, 1274,   11,   11,   12,   12,   39,   15,    1],\n",
              "       [   8,    0,   47, 1269,    2,   24,    5,   60,   15,    3],\n",
              "       [   6,    1,   17,   55,  951,   63,   62,   33,   23,   84],\n",
              "       [   8,    1,    7,  404,   22,  746,   16,   11,   41,   17],\n",
              "       [  40,    9,   49,    6,    4,    3, 1219,    4,   59,    3],\n",
              "       [   4,    0,   35,    9,   15,  108,    2, 1312,    3,   15],\n",
              "       [   1,    0,  131,   62,    8,   23,    9,   52, 1052,   19],\n",
              "       [   7,    0,    5,   70,  560,   89,   51,  104,   13,  521]])"
            ]
          },
          "metadata": {},
          "execution_count": 21
        }
      ]
    },
    {
      "cell_type": "code",
      "source": [
        "estimator = SVR(kernel=\"linear\")\n",
        "selector = RFE(estimator, n_features_to_select=157)\n",
        "selector = selector.fit(X_train, y_train)"
      ],
      "metadata": {
        "id": "4wIrzH1-Tod_"
      },
      "execution_count": null,
      "outputs": []
    }
  ],
  "metadata": {
    "colab": {
      "provenance": [],
      "gpuType": "T4"
    },
    "kernelspec": {
      "display_name": "Python 3",
      "name": "python3"
    },
    "language_info": {
      "name": "python"
    }
  },
  "nbformat": 4,
  "nbformat_minor": 0
}